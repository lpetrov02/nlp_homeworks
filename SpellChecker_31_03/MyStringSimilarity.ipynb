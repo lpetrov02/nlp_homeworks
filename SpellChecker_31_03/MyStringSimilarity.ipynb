{
  "cells": [
    {
      "cell_type": "code",
      "execution_count": 19,
      "metadata": {
        "id": "JMzZrSTIz4aV"
      },
      "outputs": [],
      "source": [
        "from pathlib import Path\n",
        "import pandas as pd\n",
        "import codecs\n",
        "from typing import List, Set"
      ]
    },
    {
      "cell_type": "code",
      "execution_count": 20,
      "metadata": {
        "id": "XyD1OteMz4aX"
      },
      "outputs": [],
      "source": [
        "import re\n",
        "import math\n",
        "import codecs\n",
        "import random\n",
        "import numpy as np\n",
        "import pandas as pd\n",
        "from sklearn.feature_extraction.text import CountVectorizer\n",
        "from sklearn.neighbors import NearestNeighbors\n",
        "import editdistance\n",
        "from collections import Counter\n",
        "from collections import defaultdict\n",
        "import time\n",
        "from functools import lru_cache"
      ]
    },
    {
      "cell_type": "markdown",
      "metadata": {
        "id": "k8cThOuPz4aY"
      },
      "source": [
        "### See Data, Feel Data, Preprocess Data [1 балл]"
      ]
    },
    {
      "cell_type": "code",
      "execution_count": 23,
      "metadata": {
        "id": "r1_RB75Rz4aZ"
      },
      "outputs": [],
      "source": [
        "words_path = Path(\"/content/words2.txt\")\n",
        "broken_texts_path = Path(\"/content/broken_texts.csv\")\n",
        "correct_texts_path = Path(\"/content/derived.csv\")"
      ]
    },
    {
      "cell_type": "code",
      "execution_count": 53,
      "metadata": {
        "id": "PyyvB_imz4aZ"
      },
      "outputs": [],
      "source": [
        "df = pd.read_csv(broken_texts_path)\n",
        "test_df = pd.read_csv(correct_texts_path)"
      ]
    },
    {
      "cell_type": "code",
      "execution_count": 25,
      "metadata": {
        "colab": {
          "base_uri": "https://localhost:8080/",
          "height": 206
        },
        "id": "p7973DXwz4aa",
        "outputId": "374f0410-bf8e-4dc3-f029-8952d25e54ea"
      },
      "outputs": [
        {
          "output_type": "execute_result",
          "data": {
            "text/plain": [
              "   id                                               text\n",
              "0   0  не обнаруживается различий в общем объеме серо...\n",
              "1   1  интегумент ( от - покрывало , покров ) - терми...\n",
              "2   2  22 июня 2013 года решениме большинстав судей ,...\n",
              "3   3          в 1987 mi выпустила альбом all the best !\n",
              "4   4  путевая машинная станция 79 была создана 16 фе..."
            ],
            "text/html": [
              "\n",
              "  <div id=\"df-eff93f3d-8947-4236-843d-19f7bfe74d94\">\n",
              "    <div class=\"colab-df-container\">\n",
              "      <div>\n",
              "<style scoped>\n",
              "    .dataframe tbody tr th:only-of-type {\n",
              "        vertical-align: middle;\n",
              "    }\n",
              "\n",
              "    .dataframe tbody tr th {\n",
              "        vertical-align: top;\n",
              "    }\n",
              "\n",
              "    .dataframe thead th {\n",
              "        text-align: right;\n",
              "    }\n",
              "</style>\n",
              "<table border=\"1\" class=\"dataframe\">\n",
              "  <thead>\n",
              "    <tr style=\"text-align: right;\">\n",
              "      <th></th>\n",
              "      <th>id</th>\n",
              "      <th>text</th>\n",
              "    </tr>\n",
              "  </thead>\n",
              "  <tbody>\n",
              "    <tr>\n",
              "      <th>0</th>\n",
              "      <td>0</td>\n",
              "      <td>не обнаруживается различий в общем объеме серо...</td>\n",
              "    </tr>\n",
              "    <tr>\n",
              "      <th>1</th>\n",
              "      <td>1</td>\n",
              "      <td>интегумент ( от - покрывало , покров ) - терми...</td>\n",
              "    </tr>\n",
              "    <tr>\n",
              "      <th>2</th>\n",
              "      <td>2</td>\n",
              "      <td>22 июня 2013 года решениме большинстав судей ,...</td>\n",
              "    </tr>\n",
              "    <tr>\n",
              "      <th>3</th>\n",
              "      <td>3</td>\n",
              "      <td>в 1987 mi выпустила альбом all the best !</td>\n",
              "    </tr>\n",
              "    <tr>\n",
              "      <th>4</th>\n",
              "      <td>4</td>\n",
              "      <td>путевая машинная станция 79 была создана 16 фе...</td>\n",
              "    </tr>\n",
              "  </tbody>\n",
              "</table>\n",
              "</div>\n",
              "      <button class=\"colab-df-convert\" onclick=\"convertToInteractive('df-eff93f3d-8947-4236-843d-19f7bfe74d94')\"\n",
              "              title=\"Convert this dataframe to an interactive table.\"\n",
              "              style=\"display:none;\">\n",
              "        \n",
              "  <svg xmlns=\"http://www.w3.org/2000/svg\" height=\"24px\"viewBox=\"0 0 24 24\"\n",
              "       width=\"24px\">\n",
              "    <path d=\"M0 0h24v24H0V0z\" fill=\"none\"/>\n",
              "    <path d=\"M18.56 5.44l.94 2.06.94-2.06 2.06-.94-2.06-.94-.94-2.06-.94 2.06-2.06.94zm-11 1L8.5 8.5l.94-2.06 2.06-.94-2.06-.94L8.5 2.5l-.94 2.06-2.06.94zm10 10l.94 2.06.94-2.06 2.06-.94-2.06-.94-.94-2.06-.94 2.06-2.06.94z\"/><path d=\"M17.41 7.96l-1.37-1.37c-.4-.4-.92-.59-1.43-.59-.52 0-1.04.2-1.43.59L10.3 9.45l-7.72 7.72c-.78.78-.78 2.05 0 2.83L4 21.41c.39.39.9.59 1.41.59.51 0 1.02-.2 1.41-.59l7.78-7.78 2.81-2.81c.8-.78.8-2.07 0-2.86zM5.41 20L4 18.59l7.72-7.72 1.47 1.35L5.41 20z\"/>\n",
              "  </svg>\n",
              "      </button>\n",
              "      \n",
              "  <style>\n",
              "    .colab-df-container {\n",
              "      display:flex;\n",
              "      flex-wrap:wrap;\n",
              "      gap: 12px;\n",
              "    }\n",
              "\n",
              "    .colab-df-convert {\n",
              "      background-color: #E8F0FE;\n",
              "      border: none;\n",
              "      border-radius: 50%;\n",
              "      cursor: pointer;\n",
              "      display: none;\n",
              "      fill: #1967D2;\n",
              "      height: 32px;\n",
              "      padding: 0 0 0 0;\n",
              "      width: 32px;\n",
              "    }\n",
              "\n",
              "    .colab-df-convert:hover {\n",
              "      background-color: #E2EBFA;\n",
              "      box-shadow: 0px 1px 2px rgba(60, 64, 67, 0.3), 0px 1px 3px 1px rgba(60, 64, 67, 0.15);\n",
              "      fill: #174EA6;\n",
              "    }\n",
              "\n",
              "    [theme=dark] .colab-df-convert {\n",
              "      background-color: #3B4455;\n",
              "      fill: #D2E3FC;\n",
              "    }\n",
              "\n",
              "    [theme=dark] .colab-df-convert:hover {\n",
              "      background-color: #434B5C;\n",
              "      box-shadow: 0px 1px 3px 1px rgba(0, 0, 0, 0.15);\n",
              "      filter: drop-shadow(0px 1px 2px rgba(0, 0, 0, 0.3));\n",
              "      fill: #FFFFFF;\n",
              "    }\n",
              "  </style>\n",
              "\n",
              "      <script>\n",
              "        const buttonEl =\n",
              "          document.querySelector('#df-eff93f3d-8947-4236-843d-19f7bfe74d94 button.colab-df-convert');\n",
              "        buttonEl.style.display =\n",
              "          google.colab.kernel.accessAllowed ? 'block' : 'none';\n",
              "\n",
              "        async function convertToInteractive(key) {\n",
              "          const element = document.querySelector('#df-eff93f3d-8947-4236-843d-19f7bfe74d94');\n",
              "          const dataTable =\n",
              "            await google.colab.kernel.invokeFunction('convertToInteractive',\n",
              "                                                     [key], {});\n",
              "          if (!dataTable) return;\n",
              "\n",
              "          const docLinkHtml = 'Like what you see? Visit the ' +\n",
              "            '<a target=\"_blank\" href=https://colab.research.google.com/notebooks/data_table.ipynb>data table notebook</a>'\n",
              "            + ' to learn more about interactive tables.';\n",
              "          element.innerHTML = '';\n",
              "          dataTable['output_type'] = 'display_data';\n",
              "          await google.colab.output.renderOutput(dataTable, element);\n",
              "          const docLink = document.createElement('div');\n",
              "          docLink.innerHTML = docLinkHtml;\n",
              "          element.appendChild(docLink);\n",
              "        }\n",
              "      </script>\n",
              "    </div>\n",
              "  </div>\n",
              "  "
            ]
          },
          "metadata": {},
          "execution_count": 25
        }
      ],
      "source": [
        "df.head()"
      ]
    },
    {
      "cell_type": "code",
      "execution_count": 57,
      "metadata": {
        "id": "sfjsXQKe6Egp"
      },
      "outputs": [],
      "source": [
        "texts = df[\"text\"].tolist()\n",
        "correct_texts = test_df[\"text\"].tolist()"
      ]
    },
    {
      "cell_type": "code",
      "source": [
        "for text, correct_text in zip(texts, correct_texts):\n",
        "    if \"  \" in text:\n",
        "        print(text)\n",
        "        print(correct_text)\n",
        "        print('\\n')\n",
        "        break"
      ],
      "metadata": {
        "colab": {
          "base_uri": "https://localhost:8080/"
        },
        "id": "y2zjnuKYNoNV",
        "outputId": "8350f01f-d1be-4b1b-fc0a-a80bf58f3db9"
      },
      "execution_count": 61,
      "outputs": [
        {
          "output_type": "stream",
          "name": "stdout",
          "text": [
            "; песни и романсы х . ф . ахметова , з .  .. исмагилова , т . ш . каримова , с . а . низаметдинова ,, н . г . сабитова , р . х . сахаутдиновой , а  б . туктагулова и др  народная артистка рб ( 2012 ) .\n",
            "; песни и романсы х . ф . ахметова , з . г . исмагилова , т . ш . каримова , с . а . низаметдинова , н . г . сабитова , р . х . сахаутдиновой , а . б . туктагулова и др . народная артистка рб ( 2012 ) .\n",
            "\n",
            "\n"
          ]
        }
      ]
    },
    {
      "cell_type": "code",
      "source": [
        "cnt = 0\n",
        "for text, correct_text in zip(texts, correct_texts):\n",
        "    if len(text.split()) != len(correct_text.split()):\n",
        "        cnt += 1\n",
        "cnt"
      ],
      "metadata": {
        "colab": {
          "base_uri": "https://localhost:8080/"
        },
        "id": "vYecjNuGO2xO",
        "outputId": "3ae1e4b9-ee80-4981-87b3-95920b1a3b35"
      },
      "execution_count": 62,
      "outputs": [
        {
          "output_type": "execute_result",
          "data": {
            "text/plain": [
              "4485"
            ]
          },
          "metadata": {},
          "execution_count": 62
        }
      ]
    },
    {
      "cell_type": "markdown",
      "source": [
        "Видно, что очень много где пропущены однобуквенные слова, поэтому как раз и нельзя делать просто `split()` - из-за него всё съезжает"
      ],
      "metadata": {
        "id": "wi-X-Tu-PORa"
      }
    },
    {
      "cell_type": "code",
      "execution_count": 27,
      "metadata": {
        "id": "ne46F1rkz4ac"
      },
      "outputs": [],
      "source": [
        "with open(words_path, 'r') as f:\n",
        "  words_list = sorted(set(word.strip() for word in f.readlines()))"
      ]
    },
    {
      "cell_type": "code",
      "execution_count": 28,
      "metadata": {
        "id": "kxRDsNjSz4ad"
      },
      "outputs": [],
      "source": [
        "assert words_list[::20000] == ['!',\n",
        "                               'daewoo',\n",
        "                               'агенобарб',\n",
        "                               'биотопа',\n",
        "                               'восхитительный',\n",
        "                               'дебальцево',\n",
        "                               'зафрахтованные',\n",
        "                               'километровой',\n",
        "                               'лесными',\n",
        "                               'московщина',\n",
        "                               'овдовевшего',\n",
        "                               'пионер-11',\n",
        "                               'провозглашавшая',\n",
        "                               'рыжиков',\n",
        "                               'спокоен',\n",
        "                               'тэйна',\n",
        "                               'хэй']"
      ]
    },
    {
      "cell_type": "code",
      "execution_count": 29,
      "metadata": {
        "id": "XQ7owvGGz4ae"
      },
      "outputs": [],
      "source": [
        "assert len(words_list) == 339275"
      ]
    },
    {
      "cell_type": "code",
      "execution_count": 30,
      "metadata": {
        "id": "kGKsQVL1z4ae"
      },
      "outputs": [],
      "source": [
        "def read_data(df: pd.DataFrame) -> str:\n",
        "    text = '\\n'.join(df[\"text\"].tolist())"
      ]
    },
    {
      "cell_type": "markdown",
      "metadata": {
        "id": "BX-k9DSBz4af"
      },
      "source": [
        "## Abstract it a little bit"
      ]
    },
    {
      "cell_type": "code",
      "execution_count": 31,
      "metadata": {
        "id": "PTZ1LtAnz4af"
      },
      "outputs": [],
      "source": [
        "from abc import abstractmethod\n",
        "\n",
        "class Speller:\n",
        "    \n",
        "    @abstractmethod\n",
        "    def fit(self, words: List[str], **kwargs):\n",
        "        raise NotImplementedError()\n",
        "    \n",
        "    @abstractmethod\n",
        "    def predict(self, data: str, **kwargs) -> str:\n",
        "        raise NotImplementedError()"
      ]
    },
    {
      "cell_type": "code",
      "execution_count": 32,
      "metadata": {
        "id": "QBYbcp_cz4ag"
      },
      "outputs": [],
      "source": [
        "class BaseRectifier:\n",
        "    \n",
        "    @abstractmethod\n",
        "    def rectify(self, data: List[str]) -> List[str]:\n",
        "        raise NotImplementedError"
      ]
    },
    {
      "cell_type": "code",
      "execution_count": 33,
      "metadata": {
        "id": "2Nkt2K6Rz4ag"
      },
      "outputs": [],
      "source": [
        "def mesure_metric(gt: List[str], broken: List[str], corrected: List[str]) -> float:\n",
        "    all_tokens = 0\n",
        "    correct = 0\n",
        "    for gt_sentence, broken_sentence, corrected_sentence in zip(gt, broken, corrected):\n",
        "        for gt_token, broken_token, corrected_token in zip(gt_sentence.split(), broken_sentence.split(), corrected_sentence.split()):\n",
        "            if gt_token != broken_token:\n",
        "                all_tokens += 1\n",
        "                if gt_token == corrected_token:\n",
        "                    correct += 1\n",
        "    return correct / all_tokens"
      ]
    },
    {
      "cell_type": "markdown",
      "metadata": {
        "id": "yJF19MUlz4ah"
      },
      "source": [
        "## Rectifier [1 балл]"
      ]
    },
    {
      "cell_type": "code",
      "execution_count": 34,
      "metadata": {
        "id": "Ne01PuoxbiUs"
      },
      "outputs": [],
      "source": [
        "from tqdm.notebook import tqdm"
      ]
    },
    {
      "cell_type": "code",
      "execution_count": 36,
      "metadata": {
        "id": "6adceRtEz4ai"
      },
      "outputs": [],
      "source": [
        "class Rectifier(BaseRectifier):\n",
        "    \n",
        "    def __init__(self, words: Set[str], speller: Speller):\n",
        "        self._words = words\n",
        "        self._speller = speller\n",
        "    \n",
        "    def rectify(self, data: List[str]) -> List[str]:\n",
        "        corrected = []\n",
        "        for sentence in tqdm(data):\n",
        "            corrected.append(' '.join([\n",
        "                self._speller.predict(word) if word not in self._words else word for word in sentence.split(\" \")\n",
        "            ]))\n",
        "\n",
        "        return corrected"
      ]
    },
    {
      "cell_type": "markdown",
      "metadata": {
        "id": "y0enfcu2z4ai"
      },
      "source": [
        "## Simple Speller [2 балла]"
      ]
    },
    {
      "cell_type": "code",
      "execution_count": 83,
      "metadata": {
        "id": "GPVYAgwUz4ai"
      },
      "outputs": [],
      "source": [
        "class SimpleSpeller(Speller):\n",
        "    \"Inspired by Petr Norvig Spellchecker\"\n",
        "    \n",
        "    def __init__(self):\n",
        "        self._letters = 'абвгдеёжзиклмнопрстуфхцчшщъыьэюя'\n",
        "    \n",
        "    def fit(self, words: List[str], **kwargs):\n",
        "        self._words = set(words)\n",
        "        return self\n",
        "    \n",
        "    @lru_cache(maxsize=10000)\n",
        "    def predict(self, word: str) -> str:\n",
        "        suggests = self._get_candidates(word)\n",
        "        \n",
        "        closest_word = word if len(word) > 0 else \".\"\n",
        "        minimal_distance = 1000\n",
        "        cnt = 1\n",
        "        for suggest in suggests:\n",
        "            d = editdistance.eval(word, suggest)\n",
        "            if d < minimal_distance:\n",
        "                closest_word = suggest\n",
        "                minimal_distance = d\n",
        "                cnt = 1\n",
        "            elif d == minimal_distance:\n",
        "                cnt += 1\n",
        "        # print(closest_word, cnt)\n",
        "        return closest_word\n",
        "    \n",
        "    def _get_candidates(self, word: str) -> Set[str]:\n",
        "        candidates = set([w for w in self._get_edits(word) if w in self._words and len(w) > 0])\n",
        "        return candidates\n",
        "    \n",
        "    def _get_edits(self, word: str) -> Set[str]:\n",
        "        splits     = [(word[:i], word[i:]) for i in range(1, len(word) - 1)]\n",
        "        deletes    = [word[:i] + word[i + 1:] for i in range(len(word))]\n",
        "        transposes = [word[:i] + word[i + 1] + word[i] + word[i + 2:] for i in range(len(word) - 1)]\n",
        "        replaces   = [word[:i] + letter + word[i + 1:] for i in range(len(word)) for letter in self._letters]\n",
        "        inserts    = [part[0] + letter + part[1] for part in splits for letter in self._letters]\n",
        "        return set(deletes + transposes + replaces + inserts)"
      ]
    },
    {
      "cell_type": "code",
      "execution_count": 84,
      "metadata": {
        "id": "OA3crjRiz4aj"
      },
      "outputs": [],
      "source": [
        "rectifier = Rectifier(set(words_list), SimpleSpeller().fit(words_list))"
      ]
    },
    {
      "cell_type": "code",
      "execution_count": 85,
      "metadata": {
        "colab": {
          "base_uri": "https://localhost:8080/",
          "height": 49,
          "referenced_widgets": [
            "161911e3f6084d3a882d2b39d37eb024",
            "fc5d0fc3fb67465a9e5cd7945858357c",
            "3a3054597bc544bca0ad7f224c64738f",
            "7d01d20e21e14e7cbe22719adc2a6369",
            "b340a84492af420696bcd4d1f96d2622",
            "35dc5ded066844ec9df042be0f9eee42",
            "eb2089e22d3b4247a34c0cc1414eb8dd",
            "950fac9874ef4277b171a65dca45a302",
            "43a015f934094138a1af78415ac3896e",
            "9ccec27b75e44811bcb968f820ea6e35",
            "773f91780376435d9a53b1765aafd554"
          ]
        },
        "id": "mg7RxXu5z4ak",
        "outputId": "5d947b6f-4f68-4930-a0d3-d541909b06df"
      },
      "outputs": [
        {
          "output_type": "display_data",
          "data": {
            "text/plain": [
              "  0%|          | 0/20000 [00:00<?, ?it/s]"
            ],
            "application/vnd.jupyter.widget-view+json": {
              "version_major": 2,
              "version_minor": 0,
              "model_id": "161911e3f6084d3a882d2b39d37eb024"
            }
          },
          "metadata": {}
        }
      ],
      "source": [
        "corrected_text = rectifier.rectify(texts)"
      ]
    },
    {
      "cell_type": "code",
      "execution_count": 86,
      "metadata": {
        "id": "yYwi8cwvz4ak"
      },
      "outputs": [],
      "source": [
        "gt = pd.read_csv(correct_texts_path)[\"text\"]"
      ]
    },
    {
      "cell_type": "code",
      "execution_count": 87,
      "metadata": {
        "id": "T611RqyEz4al"
      },
      "outputs": [],
      "source": [
        "assert mesure_metric(gt, texts, corrected_text) > 0.18"
      ]
    },
    {
      "cell_type": "code",
      "execution_count": 88,
      "metadata": {
        "colab": {
          "base_uri": "https://localhost:8080/"
        },
        "id": "_FhBwJ7TKRSw",
        "outputId": "d98135a5-df7d-45db-8dc5-ba8b81b2f1ca"
      },
      "outputs": [
        {
          "output_type": "execute_result",
          "data": {
            "text/plain": [
              "0.767358803986711"
            ]
          },
          "metadata": {},
          "execution_count": 88
        }
      ],
      "source": [
        "mesure_metric(gt, texts, corrected_text)"
      ]
    },
    {
      "cell_type": "markdown",
      "metadata": {
        "id": "pi2kZJwsz4al"
      },
      "source": [
        "## Intermediate Speller [2 балла]"
      ]
    },
    {
      "cell_type": "code",
      "execution_count": 45,
      "metadata": {
        "id": "rxHj1He9PuYf"
      },
      "outputs": [],
      "source": [
        "def wrap(word):\n",
        "    return u' %s ' % word"
      ]
    },
    {
      "cell_type": "code",
      "execution_count": 46,
      "metadata": {
        "id": "t1Q7GLRwz4am"
      },
      "outputs": [],
      "source": [
        "class IntermediateSpeller(Speller):\n",
        "    \n",
        "    def __init__(self):\n",
        "        self.neighbours = 5\n",
        "        self.vectorizer = CountVectorizer(analyzer=\"char\", ngram_range=(1, 2), binary=True)\n",
        "        self.searcher = NearestNeighbors(algorithm=\"auto\", n_neighbors=self.neighbours, radius=3)\n",
        "    \n",
        "    def fit(self, words: List[str], **kwargs):\n",
        "        self.words = np.array(words)\n",
        "        encoded_words = self.vectorizer.fit_transform(self.words).tocoo()\n",
        "        self.searcher.fit(encoded_words)\n",
        "        return self\n",
        "    \n",
        "    @lru_cache(maxsize=10000)\n",
        "    def predict(self, word: str) -> str:\n",
        "        wrapped_word = u\" %s \" % word\n",
        "        word_vec = self.vectorizer.transform([wrapped_word])\n",
        "\n",
        "        closest_word = word\n",
        "        minimal_distance = 1000\n",
        "\n",
        "        dists, idxs = self.searcher.kneighbors(word_vec)\n",
        "        for d, idx in zip(dists[0], idxs[0]):\n",
        "            suggested_word = self.words[idx]\n",
        "            if d < minimal_distance:\n",
        "                closest_word = suggested_word.strip()\n",
        "                minimal_distance = d\n",
        "        return closest_word"
      ]
    },
    {
      "cell_type": "code",
      "execution_count": 47,
      "metadata": {
        "id": "lt4Z9zUSz4am"
      },
      "outputs": [],
      "source": [
        "wrapped_words_list = list(map(lambda x : wrap(x), words_list))\n",
        "rectifier = Rectifier(set(words_list), IntermediateSpeller().fit(wrapped_words_list))"
      ]
    },
    {
      "cell_type": "code",
      "execution_count": 48,
      "metadata": {
        "colab": {
          "base_uri": "https://localhost:8080/",
          "height": 49,
          "referenced_widgets": [
            "a4382090167d4accb7b0140035225abb",
            "0e83d7cf35d54b60b8eba12295aaaedb",
            "b89e71639d454aa5ac51dc3d1e588fc7",
            "18603c4ecba345a493881e9b098d04be",
            "e3aee202411a41b6a5d9b5bde3351ddc",
            "97f433d94db94c54a531b13a33ed70c8",
            "5f678d94f24946c39312b59871b5006d",
            "32f755b2598c4c55b8ff15d35edec21c",
            "10556b6b384544a29fce38df83bef31f",
            "44f9686f10e84908a1fc26531bcec090",
            "1eac60a0299844ce99a2e0e39e438d9e"
          ]
        },
        "id": "1mhbdhc1z4an",
        "outputId": "b5d6448f-789b-43d6-a1c5-b5ada8527d3f"
      },
      "outputs": [
        {
          "data": {
            "application/vnd.jupyter.widget-view+json": {
              "model_id": "a4382090167d4accb7b0140035225abb",
              "version_major": 2,
              "version_minor": 0
            },
            "text/plain": [
              "  0%|          | 0/20000 [00:00<?, ?it/s]"
            ]
          },
          "metadata": {},
          "output_type": "display_data"
        }
      ],
      "source": [
        "corrected_text = rectifier.rectify(texts)"
      ]
    },
    {
      "cell_type": "code",
      "execution_count": 49,
      "metadata": {
        "id": "RHAfK_sFz4an"
      },
      "outputs": [],
      "source": [
        "gt = pd.read_csv(correct_texts_path)[\"text\"]"
      ]
    },
    {
      "cell_type": "code",
      "execution_count": 50,
      "metadata": {
        "id": "1bODd9S-z4an"
      },
      "outputs": [],
      "source": [
        "assert mesure_metric(gt, texts, corrected_text) > 0.2"
      ]
    },
    {
      "cell_type": "code",
      "execution_count": 51,
      "metadata": {
        "colab": {
          "base_uri": "https://localhost:8080/"
        },
        "id": "3ExoWbZNiDPn",
        "outputId": "5f0a64a2-b18d-49fa-83b0-23cd5daa76b3"
      },
      "outputs": [
        {
          "output_type": "execute_result",
          "data": {
            "text/plain": [
              "0.7997626957759848"
            ]
          },
          "metadata": {},
          "execution_count": 51
        }
      ],
      "source": [
        "mesure_metric(gt, texts, corrected_text)"
      ]
    },
    {
      "cell_type": "markdown",
      "metadata": {
        "id": "JnubEihkz4ao"
      },
      "source": [
        "## Your Good Speller [2 балла]"
      ]
    },
    {
      "cell_type": "markdown",
      "source": [
        "Сейчас я попробую обучить языковую модель на словах.  \n",
        "Много где есть несколько вариантов слов с одинаковым редакционным расстоянием. И в *SimpleSpeller* я просто брал первое из слов. Почему бы не взять самое \"адекватное\", согласно языковой модели?"
      ],
      "metadata": {
        "id": "XC9r1UvdbsiH"
      }
    },
    {
      "cell_type": "code",
      "execution_count": 101,
      "metadata": {
        "id": "KgJYmGionqNi"
      },
      "outputs": [],
      "source": [
        "class LanguageModel(object):\n",
        "    \"\"\"\n",
        "    Реализуйте n-граммную модель со сглаживанием Лапласа\n",
        "    \"\"\"\n",
        "\n",
        "    def __init__(self, ngram_size=2, alpha=1):\n",
        "\n",
        "        if ngram_size < 2:\n",
        "            raise Exception\n",
        "\n",
        "        self.ngram_size = ngram_size\n",
        "\n",
        "        self.ngram_vectorizer = CountVectorizer(analyzer=\"char\", ngram_range=(ngram_size, ngram_size))\n",
        "        self.context_vectorizer = CountVectorizer(analyzer=\"char\", ngram_range=(ngram_size - 1, ngram_size - 1))\n",
        "        self.ngram_counts = defaultdict(int)\n",
        "        self.context_counts = defaultdict(int)\n",
        "        self.ngrams_set_size = None\n",
        "        self.wrap = lambda x: \"^\" * (self.ngram_size - 1) + x + \"$\" * (self.ngram_size - 1)\n",
        "        self.alpha = alpha\n",
        "\n",
        "    def fit(self, words):\n",
        "        \"\"\"\n",
        "        Обучение модели на тексте, разбитом на предложения\n",
        "        :param sentences: список предложений\n",
        "        \"\"\"\n",
        "\n",
        "        print(\"Fitting words\")\n",
        "        wrapped_words = list(map(self.wrap, words))\n",
        "\n",
        "        counts_matrix = self.ngram_vectorizer.fit_transform(wrapped_words)\n",
        "        counts_context_matrix = self.context_vectorizer.fit_transform(wrapped_words)\n",
        "        self.ngrams_set_size = len(self.ngram_vectorizer.vocabulary_)\n",
        "\n",
        "        print(\"Summing...\")\n",
        "\n",
        "        sum_ngram = np.asarray(counts_matrix.sum(axis=0)).flatten()\n",
        "        sum_context = np.asarray(counts_context_matrix.sum(axis=0)).flatten()\n",
        "\n",
        "        print(\"shapes: \", sum_ngram.shape, sum_context.shape)\n",
        "        print(\"Iterating through ngrams...\")\n",
        "\n",
        "        for ngram in self.ngram_vectorizer.vocabulary_:\n",
        "            self.ngram_counts[ngram] = sum_ngram[self.ngram_vectorizer.vocabulary_[ngram]]\n",
        "        for ngram in self.context_vectorizer.vocabulary_:\n",
        "            self.context_counts[ngram] = sum_context[self.context_vectorizer.vocabulary_[ngram]]\n",
        "\n",
        "        return self\n",
        "\n",
        "    def perplexity(self, words):\n",
        "        wrapped_words = list(map(self.wrap, words))\n",
        "        lens = np.array([len(word) for word in wrapped_words])\n",
        "        logprobs = np.array(self.log_prob(wrapped_words)) / lens\n",
        "        return (1 / 2 ** logprobs).mean()\n",
        "\n",
        "    def perplexitys(self, words):\n",
        "        wrapped_words = list(map(self.wrap, words))\n",
        "        lens = np.array([len(word) for word in wrapped_words])\n",
        "        logprobs = np.array(self.log_prob(wrapped_words)) / lens\n",
        "        return np.exp2(-logprobs)\n",
        "\n",
        "    def __log_prob_word(self, word):\n",
        "        \"\"\"\n",
        "        Оцениваем логарифм вероятности предложения частотами в рамках данной модели\n",
        "        :param word:\n",
        "        :return: логарифм вероятности\n",
        "        \"\"\"\n",
        "        n = self.ngram_size\n",
        "        V = self.ngrams_set_size\n",
        "        probs = []\n",
        "        for i in range(len(word) - n):\n",
        "            probs.append((self.ngram_counts[word[i: i + n]] + self.alpha) / (self.context_counts[word[i: i + n - 1]] + self.alpha * V))\n",
        "        return np.log2(probs).sum()\n",
        "\n",
        "    def log_prob(self, words_list):\n",
        "        \"\"\"\n",
        "        Логарифм вероятности каждого из предложений в списке\n",
        "        \"\"\"\n",
        "        return list(map(self.__log_prob_word, words_list))"
      ]
    },
    {
      "cell_type": "code",
      "execution_count": 102,
      "metadata": {
        "id": "6fE47en0LUln"
      },
      "outputs": [],
      "source": [
        "class NotBadSpeller(Speller):\n",
        "    \"Inspired by Petr Norvig Spellchecker\"\n",
        "    \n",
        "    def __init__(self, ngrams=2, alpha=0.5):\n",
        "        self._letters = 'абвгдеёжзиклмнопрстуфхцчшщъыьэюя'\n",
        "        self.ngrams_size = ngrams\n",
        "        self.alpha = alpha\n",
        "        self._lm = None\n",
        "    \n",
        "    def fit(self, words: List[str], **kwargs):\n",
        "        self._words = set(words)\n",
        "        self._lm = LanguageModel(self.ngrams_size, self.alpha).fit(words)\n",
        "        return self\n",
        "    \n",
        "    @lru_cache(maxsize=10000)\n",
        "    def predict(self, word: str) -> str:\n",
        "        suggests = list(self._get_candidates(word))\n",
        "\n",
        "        closest_words = [word]\n",
        "        minimal_distance = 1000\n",
        "\n",
        "        for suggest in suggests:\n",
        "            d = editdistance.eval(word, suggest)\n",
        "            if d < minimal_distance:\n",
        "                closest_word = suggest\n",
        "                minimal_distance = d\n",
        "                closest_words = [suggest]\n",
        "            elif d == minimal_distance:\n",
        "                closest_words.append(suggest)\n",
        "\n",
        "        perplexitys = self._lm.perplexitys(closest_words)\n",
        "        closest_word = word\n",
        "        best_perp = 1e6\n",
        "        for suggest, perp in zip(closest_words, perplexitys):\n",
        "            if perp < best_perp:\n",
        "                best_perp, closest_word = perp, suggest\n",
        "\n",
        "        return closest_word\n",
        "    \n",
        "    def _get_candidates(self, word: str) -> Set[str]:\n",
        "        return set([w for w in self._get_edits(word) if w in self._words and len(w) > 0])\n",
        "    \n",
        "    def _get_edits(self, word: str) -> Set[str]:\n",
        "        splits     = [(word[:i], word[i:]) for i in range(len(word) + 1)]\n",
        "        deletes    = [word[:i] + word[i + 1:] for i in range(len(word))]\n",
        "        transposes = [word[:i] + word[i + 1] + word[i] + word[i + 2:] for i in range(len(word) - 1)]\n",
        "        replaces   = [word[:i] + letter + word[i + 1:] for i in range(len(word)) for letter in self._letters]\n",
        "        inserts    = [part[0] + letter + part[1] for part in splits for letter in self._letters]\n",
        "        return set(deletes + transposes + replaces + inserts)"
      ]
    },
    {
      "cell_type": "code",
      "execution_count": 110,
      "metadata": {
        "colab": {
          "base_uri": "https://localhost:8080/"
        },
        "id": "u9w4MQ6vS25-",
        "outputId": "b59fce5c-b0ed-4180-d84e-5465584ad044"
      },
      "outputs": [
        {
          "output_type": "stream",
          "name": "stdout",
          "text": [
            "Fitting words\n",
            "Summing...\n",
            "shapes:  (38007,) (3274,)\n",
            "Iterating through ngrams...\n"
          ]
        }
      ],
      "source": [
        "rectifier = Rectifier(set(words_list), NotBadSpeller(ngrams=3, alpha=0.75).fit(words_list))"
      ]
    },
    {
      "cell_type": "code",
      "execution_count": 111,
      "metadata": {
        "colab": {
          "base_uri": "https://localhost:8080/",
          "height": 49,
          "referenced_widgets": [
            "e7edabb4c8f3452ca3f91ef0092f5c35",
            "ba8107a1ee574b3e8d8f6cc401e0ec5a",
            "1568de3b29bc4e0794a30678d0bf15f3",
            "52b115ca35794ad5a20a28fc6ad2b793",
            "699542cee4524c699e077d3cff0c2dab",
            "f40919a9b69f4e1ea982b8e6f25d6321",
            "548a56c36ace4171bbe96c555a8da8e5",
            "0c395cbe45704894a04bc3a115b9fe0f",
            "215968fac45649abab0878269e28d30a",
            "175ef141be704fca9e03233e282bcae9",
            "194ee7bfe37240c1aef1996bb95221ce"
          ]
        },
        "id": "lJsnRtNmXiMq",
        "outputId": "87048ddb-bc56-41d2-9c56-d3fc6b991512"
      },
      "outputs": [
        {
          "output_type": "display_data",
          "data": {
            "text/plain": [
              "  0%|          | 0/20000 [00:00<?, ?it/s]"
            ],
            "application/vnd.jupyter.widget-view+json": {
              "version_major": 2,
              "version_minor": 0,
              "model_id": "e7edabb4c8f3452ca3f91ef0092f5c35"
            }
          },
          "metadata": {}
        }
      ],
      "source": [
        "corrected_text = rectifier.rectify(texts)"
      ]
    },
    {
      "cell_type": "code",
      "execution_count": 112,
      "metadata": {
        "colab": {
          "base_uri": "https://localhost:8080/"
        },
        "id": "Fmuq9bMMSsrc",
        "outputId": "bd7a4f32-86fa-497c-d10a-f94c9ee50100"
      },
      "outputs": [
        {
          "output_type": "execute_result",
          "data": {
            "text/plain": [
              "0.7843735168485999"
            ]
          },
          "metadata": {},
          "execution_count": 112
        }
      ],
      "source": [
        "mesure_metric(gt, texts, corrected_text)"
      ]
    },
    {
      "cell_type": "code",
      "execution_count": 113,
      "metadata": {
        "id": "wqPePCXDz4ao"
      },
      "outputs": [],
      "source": [
        "assert mesure_metric(gt, texts, corrected_text) > 0.4"
      ]
    },
    {
      "cell_type": "markdown",
      "source": [
        "Ну да, стало чуточку лучше"
      ],
      "metadata": {
        "id": "yfRYU7IweXq6"
      }
    },
    {
      "cell_type": "markdown",
      "metadata": {
        "id": "vMiaqQAKz4ap"
      },
      "source": [
        "## Your Amazing Speller [2 балла]"
      ]
    },
    {
      "cell_type": "markdown",
      "source": [
        "Попробуем всё ту же идею, что и в самом простом *SpellChecker* - даже без языковой модели, так как явного выигрыша она не даёт.  \n",
        "Вместо будем допускать большее количество опечаток в одном слове.  \n",
        "Также попробуем учесть, что *replace* - то есть какая-то не так буква - это обычно сосед на клавиатуре. Бывают, конечно, разные раскладки, но предположим, что qwerty  \n",
        "И ещё одна вещь до сих пор была странной. Мы делаем *_get_edits*, а потом сравниваем по расстоянию Левенштейна. Хочется, чтобы расстояние учитывало ещё и перестановки соседних букв. Звучит как расстояние Дамерау-Левенштейна"
      ],
      "metadata": {
        "id": "WMMEJnOQgpw9"
      }
    },
    {
      "cell_type": "code",
      "source": [
        "from nltk.metrics.distance import edit_distance"
      ],
      "metadata": {
        "id": "R4g-FxSsiHPS"
      },
      "execution_count": 114,
      "outputs": []
    },
    {
      "cell_type": "code",
      "source": [
        "class MaybeGoodSpeller(Speller):\n",
        "    \"Inspired by Petr Norvig Spellchecker\"\n",
        "    \n",
        "    def __init__(self, ngrams=2, alpha=0.5):\n",
        "        self._letters = 'абвгдеёжзиклмнопрстуфхцчшщъыьэюя'\n",
        "        self._letters_dict = {\n",
        "            'а': ['к', 'е', 'в', 'п', 'с', 'м'],\n",
        "            'б': ['ь', 'л', 'д', 'ю'],\n",
        "            'в': ['у', 'к', 'ы', 'а', 'ч', 'ч', 'с'],\n",
        "            'г': ['ш', 'р', 'о'],\n",
        "            'д': ['щ', 'з', 'л', 'ж', 'б', 'ю'],\n",
        "            'е': ['к', 'н', 'а', 'п', 'ё'],\n",
        "            'ё': ['е', 'к', 'а', 'п', 'р', 'н'],\n",
        "            'ж': ['з', 'х', 'д', 'э', 'ю'],\n",
        "            'з': ['щ', 'д', 'ж', 'э', 'х'],\n",
        "            'и': ['м', 'п', 'р', 'т'],\n",
        "            'й': ['ф', 'ы', 'ц'],\n",
        "            'к': ['у', 'в', 'а', 'п', 'е'],\n",
        "            'л': ['о', 'ш', 'щ', 'д', 'ь', 'б'],\n",
        "            'м': ['с', 'а', 'п', 'и'],\n",
        "            'н': ['е', 'п', 'р', 'о', 'г'],\n",
        "            'о': ['р', 'г', 'ш', 'л', 'т', 'ь'],\n",
        "            'п': ['а', 'е', 'н', 'р', 'м', 'и'],\n",
        "            'р': ['п', 'и', 'т', 'о', 'г', 'н'],\n",
        "            'с': ['ч', 'в', 'а', 'м'],\n",
        "            'т': ['и', 'р', 'о', 'ь'],\n",
        "            'у': ['ц', 'ы', 'в', 'а', 'к'],\n",
        "            'ф': ['й', 'ц', 'ы', 'я'],\n",
        "            'х': ['з', 'ж', 'э', 'ъ'],\n",
        "            'ц': ['й', 'ф', 'ы', 'в', 'у'],\n",
        "            'ч': ['я', 'ы', 'в', 'с'],\n",
        "            'ш': ['г', 'о', 'л', 'д', 'щ'],\n",
        "            'щ': ['ш', 'л', 'д', 'ж', 'з'],\n",
        "            'ъ': ['х', 'э'],\n",
        "            'ы': ['ф', 'ц', 'у', 'в', 'я', 'ч'],\n",
        "            'ь': ['т', 'о', 'л', 'б'],\n",
        "            'э': ['ю', 'ж', 'х'],\n",
        "            'ю': ['б', 'д', 'ж'],\n",
        "            'я': ['ф', 'ы', 'ч'],\n",
        "            '.': ['ю', 'ж', 'э'],\n",
        "            ',': ['ю', 'ж', 'э'],\n",
        "            '1': ['ё', 'й', 'ц'],\n",
        "            '2': ['й', 'ц'],\n",
        "            '3': ['ц', 'у'],\n",
        "            '4': ['у', 'к'],\n",
        "            '5': ['к', 'е'],\n",
        "            '6': ['е', 'н'],\n",
        "            '7': ['н', 'г'],\n",
        "            '8': ['г', 'ш'],\n",
        "            '9': ['ш', 'щ'],\n",
        "            '0': ['щ', 'з'],\n",
        "            '-': ['з', 'х'],\n",
        "            '=': ['х', 'ъ'],\n",
        "            '\\\\': ['ъ']\n",
        "        }\n",
        "        self.ngrams_size = ngrams\n",
        "        self.alpha = alpha\n",
        "        self._lm = None\n",
        "    \n",
        "    def fit(self, words: List[str], **kwargs):\n",
        "        self._words = set(words)\n",
        "        self._lm = LanguageModel(self.ngrams_size, self.alpha).fit(words)\n",
        "        return self\n",
        "    \n",
        "    @lru_cache(maxsize=10000)\n",
        "    def predict(self, word: str) -> str:\n",
        "        suggests = list(self._get_candidates(word))\n",
        "\n",
        "        closest_words = [word]\n",
        "        minimal_distance = 1000\n",
        "\n",
        "        for suggest in suggests:\n",
        "            d = edit_distance(word, suggest, transpositions=True)\n",
        "            if d < minimal_distance:\n",
        "                closest_word = suggest\n",
        "                minimal_distance = d\n",
        "                closest_words = [suggest]\n",
        "            elif d == minimal_distance:\n",
        "                closest_words.append(suggest)\n",
        "\n",
        "        perplexitys = self._lm.perplexitys(closest_words)\n",
        "        closest_word = word\n",
        "        best_perp = 1e6\n",
        "        for suggest, perp in zip(closest_words, perplexitys):\n",
        "            if perp < best_perp:\n",
        "                best_perp, closest_word = perp, suggest\n",
        "\n",
        "        return closest_word\n",
        "    \n",
        "    def _get_candidates(self, word: str) -> Set[str]:\n",
        "        candidates = set()\n",
        "        for word_ in self._get_edits(word, neighbors_only=True):\n",
        "            candidates_ = set(self._get_edits(word_, neighbors_only=True, return_inserts=False)) | set([word_])\n",
        "            candidates |= set([w for w in candidates_ if w in self._words])\n",
        "        return candidates\n",
        "    \n",
        "    def _get_edits(self, word: str, neighbors_only=False, return_inserts=True) -> Set[str]:\n",
        "        splits     = [(word[:i], word[i:]) for i in range(len(word) + 1)]\n",
        "        deletes    = [word[:i] + word[i + 1:] for i in range(len(word))]\n",
        "        transposes = [word[:i] + word[i + 1] + word[i] + word[i + 2:] for i in range(len(word) - 1)]\n",
        "        replaces   = [word[:i] + letter + word[i + 1:] for i in range(len(word)) for letter in (\n",
        "            self._letters_dict[word[i]] if neighbors_only and word[i] in self._letters_dict else self._letters\n",
        "            )]\n",
        "        inserts    = [] if not return_inserts else [part[0] + letter + part[1] for part in splits for letter in self._letters]\n",
        "        return set(deletes + transposes + replaces + inserts)"
      ],
      "metadata": {
        "id": "qmkuu5dVdAfT"
      },
      "execution_count": 126,
      "outputs": []
    },
    {
      "cell_type": "code",
      "source": [
        "rectifier = Rectifier(set(words_list), MaybeGoodSpeller(ngrams=3, alpha=0.75).fit(words_list))"
      ],
      "metadata": {
        "colab": {
          "base_uri": "https://localhost:8080/"
        },
        "id": "-45vM2v1lmWv",
        "outputId": "0adfb156-73ba-4af9-a705-cc85b9b94db9"
      },
      "execution_count": 128,
      "outputs": [
        {
          "output_type": "stream",
          "name": "stdout",
          "text": [
            "Fitting words\n",
            "Summing...\n",
            "shapes:  (38007,) (3274,)\n",
            "Iterating through ngrams...\n"
          ]
        }
      ]
    },
    {
      "cell_type": "code",
      "source": [
        "corrected_text = rectifier.rectify(texts)"
      ],
      "metadata": {
        "colab": {
          "base_uri": "https://localhost:8080/",
          "height": 49,
          "referenced_widgets": [
            "6507a7d2c12c46b9aac29220a6b5ba73",
            "80e450d010ec4575a38066f6f35105d7",
            "def3684ad6f94656a07ac76dec27f35b",
            "be018fde3df648dda21325c59e113ed6",
            "c92b567be3684e0fb4145ff9ec9a9296",
            "b2bdb8bcdc394f04b6ed6a718bbf81c9",
            "ab0f39a49c104a22af02929b3c38c295",
            "854859abb616471d8c20e52712b18f9c",
            "26e2522adefc48da91e18db942e3eb17",
            "32058c59d8f84722a1530946861110d4",
            "22ec23f74de740d6b47faaf2f9ed0352"
          ]
        },
        "id": "1iPIutuFlu6t",
        "outputId": "98553451-1392-46f2-b463-ba43269006a8"
      },
      "execution_count": 129,
      "outputs": [
        {
          "output_type": "display_data",
          "data": {
            "text/plain": [
              "  0%|          | 0/20000 [00:00<?, ?it/s]"
            ],
            "application/vnd.jupyter.widget-view+json": {
              "version_major": 2,
              "version_minor": 0,
              "model_id": "6507a7d2c12c46b9aac29220a6b5ba73"
            }
          },
          "metadata": {}
        }
      ]
    },
    {
      "cell_type": "code",
      "source": [
        "mesure_metric(gt, texts, corrected_text)"
      ],
      "metadata": {
        "colab": {
          "base_uri": "https://localhost:8080/"
        },
        "id": "huav2kk1lxNN",
        "outputId": "428ec386-9e6c-41fe-862e-a996c9597ee1"
      },
      "execution_count": 130,
      "outputs": [
        {
          "output_type": "execute_result",
          "data": {
            "text/plain": [
              "0.792797816801139"
            ]
          },
          "metadata": {},
          "execution_count": 130
        }
      ]
    },
    {
      "cell_type": "code",
      "execution_count": 131,
      "metadata": {
        "id": "RAKVaZFSz4ap"
      },
      "outputs": [],
      "source": [
        "assert mesure_metric(gt, texts, corrected_text) > 0.47"
      ]
    },
    {
      "cell_type": "markdown",
      "source": [
        "Ну вот, стало ещё немного лучше)"
      ],
      "metadata": {
        "id": "CVdmsa2KtMs3"
      }
    },
    {
      "cell_type": "code",
      "source": [],
      "metadata": {
        "id": "7Dc8_zSitPHf"
      },
      "execution_count": null,
      "outputs": []
    }
  ],
  "metadata": {
    "colab": {
      "provenance": []
    },
    "kernelspec": {
      "display_name": "Python 3 (ipykernel)",
      "language": "python",
      "name": "python3"
    },
    "language_info": {
      "codemirror_mode": {
        "name": "ipython",
        "version": 3
      },
      "file_extension": ".py",
      "mimetype": "text/x-python",
      "name": "python",
      "nbconvert_exporter": "python",
      "pygments_lexer": "ipython3",
      "version": "3.10.6"
    },
    "widgets": {
      "application/vnd.jupyter.widget-state+json": {
        "161911e3f6084d3a882d2b39d37eb024": {
          "model_module": "@jupyter-widgets/controls",
          "model_name": "HBoxModel",
          "model_module_version": "1.5.0",
          "state": {
            "_dom_classes": [],
            "_model_module": "@jupyter-widgets/controls",
            "_model_module_version": "1.5.0",
            "_model_name": "HBoxModel",
            "_view_count": null,
            "_view_module": "@jupyter-widgets/controls",
            "_view_module_version": "1.5.0",
            "_view_name": "HBoxView",
            "box_style": "",
            "children": [
              "IPY_MODEL_fc5d0fc3fb67465a9e5cd7945858357c",
              "IPY_MODEL_3a3054597bc544bca0ad7f224c64738f",
              "IPY_MODEL_7d01d20e21e14e7cbe22719adc2a6369"
            ],
            "layout": "IPY_MODEL_b340a84492af420696bcd4d1f96d2622"
          }
        },
        "fc5d0fc3fb67465a9e5cd7945858357c": {
          "model_module": "@jupyter-widgets/controls",
          "model_name": "HTMLModel",
          "model_module_version": "1.5.0",
          "state": {
            "_dom_classes": [],
            "_model_module": "@jupyter-widgets/controls",
            "_model_module_version": "1.5.0",
            "_model_name": "HTMLModel",
            "_view_count": null,
            "_view_module": "@jupyter-widgets/controls",
            "_view_module_version": "1.5.0",
            "_view_name": "HTMLView",
            "description": "",
            "description_tooltip": null,
            "layout": "IPY_MODEL_35dc5ded066844ec9df042be0f9eee42",
            "placeholder": "​",
            "style": "IPY_MODEL_eb2089e22d3b4247a34c0cc1414eb8dd",
            "value": "100%"
          }
        },
        "3a3054597bc544bca0ad7f224c64738f": {
          "model_module": "@jupyter-widgets/controls",
          "model_name": "FloatProgressModel",
          "model_module_version": "1.5.0",
          "state": {
            "_dom_classes": [],
            "_model_module": "@jupyter-widgets/controls",
            "_model_module_version": "1.5.0",
            "_model_name": "FloatProgressModel",
            "_view_count": null,
            "_view_module": "@jupyter-widgets/controls",
            "_view_module_version": "1.5.0",
            "_view_name": "ProgressView",
            "bar_style": "success",
            "description": "",
            "description_tooltip": null,
            "layout": "IPY_MODEL_950fac9874ef4277b171a65dca45a302",
            "max": 20000,
            "min": 0,
            "orientation": "horizontal",
            "style": "IPY_MODEL_43a015f934094138a1af78415ac3896e",
            "value": 20000
          }
        },
        "7d01d20e21e14e7cbe22719adc2a6369": {
          "model_module": "@jupyter-widgets/controls",
          "model_name": "HTMLModel",
          "model_module_version": "1.5.0",
          "state": {
            "_dom_classes": [],
            "_model_module": "@jupyter-widgets/controls",
            "_model_module_version": "1.5.0",
            "_model_name": "HTMLModel",
            "_view_count": null,
            "_view_module": "@jupyter-widgets/controls",
            "_view_module_version": "1.5.0",
            "_view_name": "HTMLView",
            "description": "",
            "description_tooltip": null,
            "layout": "IPY_MODEL_9ccec27b75e44811bcb968f820ea6e35",
            "placeholder": "​",
            "style": "IPY_MODEL_773f91780376435d9a53b1765aafd554",
            "value": " 20000/20000 [00:10&lt;00:00, 2672.52it/s]"
          }
        },
        "b340a84492af420696bcd4d1f96d2622": {
          "model_module": "@jupyter-widgets/base",
          "model_name": "LayoutModel",
          "model_module_version": "1.2.0",
          "state": {
            "_model_module": "@jupyter-widgets/base",
            "_model_module_version": "1.2.0",
            "_model_name": "LayoutModel",
            "_view_count": null,
            "_view_module": "@jupyter-widgets/base",
            "_view_module_version": "1.2.0",
            "_view_name": "LayoutView",
            "align_content": null,
            "align_items": null,
            "align_self": null,
            "border": null,
            "bottom": null,
            "display": null,
            "flex": null,
            "flex_flow": null,
            "grid_area": null,
            "grid_auto_columns": null,
            "grid_auto_flow": null,
            "grid_auto_rows": null,
            "grid_column": null,
            "grid_gap": null,
            "grid_row": null,
            "grid_template_areas": null,
            "grid_template_columns": null,
            "grid_template_rows": null,
            "height": null,
            "justify_content": null,
            "justify_items": null,
            "left": null,
            "margin": null,
            "max_height": null,
            "max_width": null,
            "min_height": null,
            "min_width": null,
            "object_fit": null,
            "object_position": null,
            "order": null,
            "overflow": null,
            "overflow_x": null,
            "overflow_y": null,
            "padding": null,
            "right": null,
            "top": null,
            "visibility": null,
            "width": null
          }
        },
        "35dc5ded066844ec9df042be0f9eee42": {
          "model_module": "@jupyter-widgets/base",
          "model_name": "LayoutModel",
          "model_module_version": "1.2.0",
          "state": {
            "_model_module": "@jupyter-widgets/base",
            "_model_module_version": "1.2.0",
            "_model_name": "LayoutModel",
            "_view_count": null,
            "_view_module": "@jupyter-widgets/base",
            "_view_module_version": "1.2.0",
            "_view_name": "LayoutView",
            "align_content": null,
            "align_items": null,
            "align_self": null,
            "border": null,
            "bottom": null,
            "display": null,
            "flex": null,
            "flex_flow": null,
            "grid_area": null,
            "grid_auto_columns": null,
            "grid_auto_flow": null,
            "grid_auto_rows": null,
            "grid_column": null,
            "grid_gap": null,
            "grid_row": null,
            "grid_template_areas": null,
            "grid_template_columns": null,
            "grid_template_rows": null,
            "height": null,
            "justify_content": null,
            "justify_items": null,
            "left": null,
            "margin": null,
            "max_height": null,
            "max_width": null,
            "min_height": null,
            "min_width": null,
            "object_fit": null,
            "object_position": null,
            "order": null,
            "overflow": null,
            "overflow_x": null,
            "overflow_y": null,
            "padding": null,
            "right": null,
            "top": null,
            "visibility": null,
            "width": null
          }
        },
        "eb2089e22d3b4247a34c0cc1414eb8dd": {
          "model_module": "@jupyter-widgets/controls",
          "model_name": "DescriptionStyleModel",
          "model_module_version": "1.5.0",
          "state": {
            "_model_module": "@jupyter-widgets/controls",
            "_model_module_version": "1.5.0",
            "_model_name": "DescriptionStyleModel",
            "_view_count": null,
            "_view_module": "@jupyter-widgets/base",
            "_view_module_version": "1.2.0",
            "_view_name": "StyleView",
            "description_width": ""
          }
        },
        "950fac9874ef4277b171a65dca45a302": {
          "model_module": "@jupyter-widgets/base",
          "model_name": "LayoutModel",
          "model_module_version": "1.2.0",
          "state": {
            "_model_module": "@jupyter-widgets/base",
            "_model_module_version": "1.2.0",
            "_model_name": "LayoutModel",
            "_view_count": null,
            "_view_module": "@jupyter-widgets/base",
            "_view_module_version": "1.2.0",
            "_view_name": "LayoutView",
            "align_content": null,
            "align_items": null,
            "align_self": null,
            "border": null,
            "bottom": null,
            "display": null,
            "flex": null,
            "flex_flow": null,
            "grid_area": null,
            "grid_auto_columns": null,
            "grid_auto_flow": null,
            "grid_auto_rows": null,
            "grid_column": null,
            "grid_gap": null,
            "grid_row": null,
            "grid_template_areas": null,
            "grid_template_columns": null,
            "grid_template_rows": null,
            "height": null,
            "justify_content": null,
            "justify_items": null,
            "left": null,
            "margin": null,
            "max_height": null,
            "max_width": null,
            "min_height": null,
            "min_width": null,
            "object_fit": null,
            "object_position": null,
            "order": null,
            "overflow": null,
            "overflow_x": null,
            "overflow_y": null,
            "padding": null,
            "right": null,
            "top": null,
            "visibility": null,
            "width": null
          }
        },
        "43a015f934094138a1af78415ac3896e": {
          "model_module": "@jupyter-widgets/controls",
          "model_name": "ProgressStyleModel",
          "model_module_version": "1.5.0",
          "state": {
            "_model_module": "@jupyter-widgets/controls",
            "_model_module_version": "1.5.0",
            "_model_name": "ProgressStyleModel",
            "_view_count": null,
            "_view_module": "@jupyter-widgets/base",
            "_view_module_version": "1.2.0",
            "_view_name": "StyleView",
            "bar_color": null,
            "description_width": ""
          }
        },
        "9ccec27b75e44811bcb968f820ea6e35": {
          "model_module": "@jupyter-widgets/base",
          "model_name": "LayoutModel",
          "model_module_version": "1.2.0",
          "state": {
            "_model_module": "@jupyter-widgets/base",
            "_model_module_version": "1.2.0",
            "_model_name": "LayoutModel",
            "_view_count": null,
            "_view_module": "@jupyter-widgets/base",
            "_view_module_version": "1.2.0",
            "_view_name": "LayoutView",
            "align_content": null,
            "align_items": null,
            "align_self": null,
            "border": null,
            "bottom": null,
            "display": null,
            "flex": null,
            "flex_flow": null,
            "grid_area": null,
            "grid_auto_columns": null,
            "grid_auto_flow": null,
            "grid_auto_rows": null,
            "grid_column": null,
            "grid_gap": null,
            "grid_row": null,
            "grid_template_areas": null,
            "grid_template_columns": null,
            "grid_template_rows": null,
            "height": null,
            "justify_content": null,
            "justify_items": null,
            "left": null,
            "margin": null,
            "max_height": null,
            "max_width": null,
            "min_height": null,
            "min_width": null,
            "object_fit": null,
            "object_position": null,
            "order": null,
            "overflow": null,
            "overflow_x": null,
            "overflow_y": null,
            "padding": null,
            "right": null,
            "top": null,
            "visibility": null,
            "width": null
          }
        },
        "773f91780376435d9a53b1765aafd554": {
          "model_module": "@jupyter-widgets/controls",
          "model_name": "DescriptionStyleModel",
          "model_module_version": "1.5.0",
          "state": {
            "_model_module": "@jupyter-widgets/controls",
            "_model_module_version": "1.5.0",
            "_model_name": "DescriptionStyleModel",
            "_view_count": null,
            "_view_module": "@jupyter-widgets/base",
            "_view_module_version": "1.2.0",
            "_view_name": "StyleView",
            "description_width": ""
          }
        },
        "a4382090167d4accb7b0140035225abb": {
          "model_module": "@jupyter-widgets/controls",
          "model_name": "HBoxModel",
          "model_module_version": "1.5.0",
          "state": {
            "_dom_classes": [],
            "_model_module": "@jupyter-widgets/controls",
            "_model_module_version": "1.5.0",
            "_model_name": "HBoxModel",
            "_view_count": null,
            "_view_module": "@jupyter-widgets/controls",
            "_view_module_version": "1.5.0",
            "_view_name": "HBoxView",
            "box_style": "",
            "children": [
              "IPY_MODEL_0e83d7cf35d54b60b8eba12295aaaedb",
              "IPY_MODEL_b89e71639d454aa5ac51dc3d1e588fc7",
              "IPY_MODEL_18603c4ecba345a493881e9b098d04be"
            ],
            "layout": "IPY_MODEL_e3aee202411a41b6a5d9b5bde3351ddc"
          }
        },
        "0e83d7cf35d54b60b8eba12295aaaedb": {
          "model_module": "@jupyter-widgets/controls",
          "model_name": "HTMLModel",
          "model_module_version": "1.5.0",
          "state": {
            "_dom_classes": [],
            "_model_module": "@jupyter-widgets/controls",
            "_model_module_version": "1.5.0",
            "_model_name": "HTMLModel",
            "_view_count": null,
            "_view_module": "@jupyter-widgets/controls",
            "_view_module_version": "1.5.0",
            "_view_name": "HTMLView",
            "description": "",
            "description_tooltip": null,
            "layout": "IPY_MODEL_97f433d94db94c54a531b13a33ed70c8",
            "placeholder": "​",
            "style": "IPY_MODEL_5f678d94f24946c39312b59871b5006d",
            "value": "100%"
          }
        },
        "b89e71639d454aa5ac51dc3d1e588fc7": {
          "model_module": "@jupyter-widgets/controls",
          "model_name": "FloatProgressModel",
          "model_module_version": "1.5.0",
          "state": {
            "_dom_classes": [],
            "_model_module": "@jupyter-widgets/controls",
            "_model_module_version": "1.5.0",
            "_model_name": "FloatProgressModel",
            "_view_count": null,
            "_view_module": "@jupyter-widgets/controls",
            "_view_module_version": "1.5.0",
            "_view_name": "ProgressView",
            "bar_style": "success",
            "description": "",
            "description_tooltip": null,
            "layout": "IPY_MODEL_32f755b2598c4c55b8ff15d35edec21c",
            "max": 20000,
            "min": 0,
            "orientation": "horizontal",
            "style": "IPY_MODEL_10556b6b384544a29fce38df83bef31f",
            "value": 20000
          }
        },
        "18603c4ecba345a493881e9b098d04be": {
          "model_module": "@jupyter-widgets/controls",
          "model_name": "HTMLModel",
          "model_module_version": "1.5.0",
          "state": {
            "_dom_classes": [],
            "_model_module": "@jupyter-widgets/controls",
            "_model_module_version": "1.5.0",
            "_model_name": "HTMLModel",
            "_view_count": null,
            "_view_module": "@jupyter-widgets/controls",
            "_view_module_version": "1.5.0",
            "_view_name": "HTMLView",
            "description": "",
            "description_tooltip": null,
            "layout": "IPY_MODEL_44f9686f10e84908a1fc26531bcec090",
            "placeholder": "​",
            "style": "IPY_MODEL_1eac60a0299844ce99a2e0e39e438d9e",
            "value": " 20000/20000 [58:23&lt;00:00,  6.63it/s]"
          }
        },
        "e3aee202411a41b6a5d9b5bde3351ddc": {
          "model_module": "@jupyter-widgets/base",
          "model_name": "LayoutModel",
          "model_module_version": "1.2.0",
          "state": {
            "_model_module": "@jupyter-widgets/base",
            "_model_module_version": "1.2.0",
            "_model_name": "LayoutModel",
            "_view_count": null,
            "_view_module": "@jupyter-widgets/base",
            "_view_module_version": "1.2.0",
            "_view_name": "LayoutView",
            "align_content": null,
            "align_items": null,
            "align_self": null,
            "border": null,
            "bottom": null,
            "display": null,
            "flex": null,
            "flex_flow": null,
            "grid_area": null,
            "grid_auto_columns": null,
            "grid_auto_flow": null,
            "grid_auto_rows": null,
            "grid_column": null,
            "grid_gap": null,
            "grid_row": null,
            "grid_template_areas": null,
            "grid_template_columns": null,
            "grid_template_rows": null,
            "height": null,
            "justify_content": null,
            "justify_items": null,
            "left": null,
            "margin": null,
            "max_height": null,
            "max_width": null,
            "min_height": null,
            "min_width": null,
            "object_fit": null,
            "object_position": null,
            "order": null,
            "overflow": null,
            "overflow_x": null,
            "overflow_y": null,
            "padding": null,
            "right": null,
            "top": null,
            "visibility": null,
            "width": null
          }
        },
        "97f433d94db94c54a531b13a33ed70c8": {
          "model_module": "@jupyter-widgets/base",
          "model_name": "LayoutModel",
          "model_module_version": "1.2.0",
          "state": {
            "_model_module": "@jupyter-widgets/base",
            "_model_module_version": "1.2.0",
            "_model_name": "LayoutModel",
            "_view_count": null,
            "_view_module": "@jupyter-widgets/base",
            "_view_module_version": "1.2.0",
            "_view_name": "LayoutView",
            "align_content": null,
            "align_items": null,
            "align_self": null,
            "border": null,
            "bottom": null,
            "display": null,
            "flex": null,
            "flex_flow": null,
            "grid_area": null,
            "grid_auto_columns": null,
            "grid_auto_flow": null,
            "grid_auto_rows": null,
            "grid_column": null,
            "grid_gap": null,
            "grid_row": null,
            "grid_template_areas": null,
            "grid_template_columns": null,
            "grid_template_rows": null,
            "height": null,
            "justify_content": null,
            "justify_items": null,
            "left": null,
            "margin": null,
            "max_height": null,
            "max_width": null,
            "min_height": null,
            "min_width": null,
            "object_fit": null,
            "object_position": null,
            "order": null,
            "overflow": null,
            "overflow_x": null,
            "overflow_y": null,
            "padding": null,
            "right": null,
            "top": null,
            "visibility": null,
            "width": null
          }
        },
        "5f678d94f24946c39312b59871b5006d": {
          "model_module": "@jupyter-widgets/controls",
          "model_name": "DescriptionStyleModel",
          "model_module_version": "1.5.0",
          "state": {
            "_model_module": "@jupyter-widgets/controls",
            "_model_module_version": "1.5.0",
            "_model_name": "DescriptionStyleModel",
            "_view_count": null,
            "_view_module": "@jupyter-widgets/base",
            "_view_module_version": "1.2.0",
            "_view_name": "StyleView",
            "description_width": ""
          }
        },
        "32f755b2598c4c55b8ff15d35edec21c": {
          "model_module": "@jupyter-widgets/base",
          "model_name": "LayoutModel",
          "model_module_version": "1.2.0",
          "state": {
            "_model_module": "@jupyter-widgets/base",
            "_model_module_version": "1.2.0",
            "_model_name": "LayoutModel",
            "_view_count": null,
            "_view_module": "@jupyter-widgets/base",
            "_view_module_version": "1.2.0",
            "_view_name": "LayoutView",
            "align_content": null,
            "align_items": null,
            "align_self": null,
            "border": null,
            "bottom": null,
            "display": null,
            "flex": null,
            "flex_flow": null,
            "grid_area": null,
            "grid_auto_columns": null,
            "grid_auto_flow": null,
            "grid_auto_rows": null,
            "grid_column": null,
            "grid_gap": null,
            "grid_row": null,
            "grid_template_areas": null,
            "grid_template_columns": null,
            "grid_template_rows": null,
            "height": null,
            "justify_content": null,
            "justify_items": null,
            "left": null,
            "margin": null,
            "max_height": null,
            "max_width": null,
            "min_height": null,
            "min_width": null,
            "object_fit": null,
            "object_position": null,
            "order": null,
            "overflow": null,
            "overflow_x": null,
            "overflow_y": null,
            "padding": null,
            "right": null,
            "top": null,
            "visibility": null,
            "width": null
          }
        },
        "10556b6b384544a29fce38df83bef31f": {
          "model_module": "@jupyter-widgets/controls",
          "model_name": "ProgressStyleModel",
          "model_module_version": "1.5.0",
          "state": {
            "_model_module": "@jupyter-widgets/controls",
            "_model_module_version": "1.5.0",
            "_model_name": "ProgressStyleModel",
            "_view_count": null,
            "_view_module": "@jupyter-widgets/base",
            "_view_module_version": "1.2.0",
            "_view_name": "StyleView",
            "bar_color": null,
            "description_width": ""
          }
        },
        "44f9686f10e84908a1fc26531bcec090": {
          "model_module": "@jupyter-widgets/base",
          "model_name": "LayoutModel",
          "model_module_version": "1.2.0",
          "state": {
            "_model_module": "@jupyter-widgets/base",
            "_model_module_version": "1.2.0",
            "_model_name": "LayoutModel",
            "_view_count": null,
            "_view_module": "@jupyter-widgets/base",
            "_view_module_version": "1.2.0",
            "_view_name": "LayoutView",
            "align_content": null,
            "align_items": null,
            "align_self": null,
            "border": null,
            "bottom": null,
            "display": null,
            "flex": null,
            "flex_flow": null,
            "grid_area": null,
            "grid_auto_columns": null,
            "grid_auto_flow": null,
            "grid_auto_rows": null,
            "grid_column": null,
            "grid_gap": null,
            "grid_row": null,
            "grid_template_areas": null,
            "grid_template_columns": null,
            "grid_template_rows": null,
            "height": null,
            "justify_content": null,
            "justify_items": null,
            "left": null,
            "margin": null,
            "max_height": null,
            "max_width": null,
            "min_height": null,
            "min_width": null,
            "object_fit": null,
            "object_position": null,
            "order": null,
            "overflow": null,
            "overflow_x": null,
            "overflow_y": null,
            "padding": null,
            "right": null,
            "top": null,
            "visibility": null,
            "width": null
          }
        },
        "1eac60a0299844ce99a2e0e39e438d9e": {
          "model_module": "@jupyter-widgets/controls",
          "model_name": "DescriptionStyleModel",
          "model_module_version": "1.5.0",
          "state": {
            "_model_module": "@jupyter-widgets/controls",
            "_model_module_version": "1.5.0",
            "_model_name": "DescriptionStyleModel",
            "_view_count": null,
            "_view_module": "@jupyter-widgets/base",
            "_view_module_version": "1.2.0",
            "_view_name": "StyleView",
            "description_width": ""
          }
        },
        "e7edabb4c8f3452ca3f91ef0092f5c35": {
          "model_module": "@jupyter-widgets/controls",
          "model_name": "HBoxModel",
          "model_module_version": "1.5.0",
          "state": {
            "_dom_classes": [],
            "_model_module": "@jupyter-widgets/controls",
            "_model_module_version": "1.5.0",
            "_model_name": "HBoxModel",
            "_view_count": null,
            "_view_module": "@jupyter-widgets/controls",
            "_view_module_version": "1.5.0",
            "_view_name": "HBoxView",
            "box_style": "",
            "children": [
              "IPY_MODEL_ba8107a1ee574b3e8d8f6cc401e0ec5a",
              "IPY_MODEL_1568de3b29bc4e0794a30678d0bf15f3",
              "IPY_MODEL_52b115ca35794ad5a20a28fc6ad2b793"
            ],
            "layout": "IPY_MODEL_699542cee4524c699e077d3cff0c2dab"
          }
        },
        "ba8107a1ee574b3e8d8f6cc401e0ec5a": {
          "model_module": "@jupyter-widgets/controls",
          "model_name": "HTMLModel",
          "model_module_version": "1.5.0",
          "state": {
            "_dom_classes": [],
            "_model_module": "@jupyter-widgets/controls",
            "_model_module_version": "1.5.0",
            "_model_name": "HTMLModel",
            "_view_count": null,
            "_view_module": "@jupyter-widgets/controls",
            "_view_module_version": "1.5.0",
            "_view_name": "HTMLView",
            "description": "",
            "description_tooltip": null,
            "layout": "IPY_MODEL_f40919a9b69f4e1ea982b8e6f25d6321",
            "placeholder": "​",
            "style": "IPY_MODEL_548a56c36ace4171bbe96c555a8da8e5",
            "value": "100%"
          }
        },
        "1568de3b29bc4e0794a30678d0bf15f3": {
          "model_module": "@jupyter-widgets/controls",
          "model_name": "FloatProgressModel",
          "model_module_version": "1.5.0",
          "state": {
            "_dom_classes": [],
            "_model_module": "@jupyter-widgets/controls",
            "_model_module_version": "1.5.0",
            "_model_name": "FloatProgressModel",
            "_view_count": null,
            "_view_module": "@jupyter-widgets/controls",
            "_view_module_version": "1.5.0",
            "_view_name": "ProgressView",
            "bar_style": "success",
            "description": "",
            "description_tooltip": null,
            "layout": "IPY_MODEL_0c395cbe45704894a04bc3a115b9fe0f",
            "max": 20000,
            "min": 0,
            "orientation": "horizontal",
            "style": "IPY_MODEL_215968fac45649abab0878269e28d30a",
            "value": 20000
          }
        },
        "52b115ca35794ad5a20a28fc6ad2b793": {
          "model_module": "@jupyter-widgets/controls",
          "model_name": "HTMLModel",
          "model_module_version": "1.5.0",
          "state": {
            "_dom_classes": [],
            "_model_module": "@jupyter-widgets/controls",
            "_model_module_version": "1.5.0",
            "_model_name": "HTMLModel",
            "_view_count": null,
            "_view_module": "@jupyter-widgets/controls",
            "_view_module_version": "1.5.0",
            "_view_name": "HTMLView",
            "description": "",
            "description_tooltip": null,
            "layout": "IPY_MODEL_175ef141be704fca9e03233e282bcae9",
            "placeholder": "​",
            "style": "IPY_MODEL_194ee7bfe37240c1aef1996bb95221ce",
            "value": " 20000/20000 [00:14&lt;00:00, 1449.97it/s]"
          }
        },
        "699542cee4524c699e077d3cff0c2dab": {
          "model_module": "@jupyter-widgets/base",
          "model_name": "LayoutModel",
          "model_module_version": "1.2.0",
          "state": {
            "_model_module": "@jupyter-widgets/base",
            "_model_module_version": "1.2.0",
            "_model_name": "LayoutModel",
            "_view_count": null,
            "_view_module": "@jupyter-widgets/base",
            "_view_module_version": "1.2.0",
            "_view_name": "LayoutView",
            "align_content": null,
            "align_items": null,
            "align_self": null,
            "border": null,
            "bottom": null,
            "display": null,
            "flex": null,
            "flex_flow": null,
            "grid_area": null,
            "grid_auto_columns": null,
            "grid_auto_flow": null,
            "grid_auto_rows": null,
            "grid_column": null,
            "grid_gap": null,
            "grid_row": null,
            "grid_template_areas": null,
            "grid_template_columns": null,
            "grid_template_rows": null,
            "height": null,
            "justify_content": null,
            "justify_items": null,
            "left": null,
            "margin": null,
            "max_height": null,
            "max_width": null,
            "min_height": null,
            "min_width": null,
            "object_fit": null,
            "object_position": null,
            "order": null,
            "overflow": null,
            "overflow_x": null,
            "overflow_y": null,
            "padding": null,
            "right": null,
            "top": null,
            "visibility": null,
            "width": null
          }
        },
        "f40919a9b69f4e1ea982b8e6f25d6321": {
          "model_module": "@jupyter-widgets/base",
          "model_name": "LayoutModel",
          "model_module_version": "1.2.0",
          "state": {
            "_model_module": "@jupyter-widgets/base",
            "_model_module_version": "1.2.0",
            "_model_name": "LayoutModel",
            "_view_count": null,
            "_view_module": "@jupyter-widgets/base",
            "_view_module_version": "1.2.0",
            "_view_name": "LayoutView",
            "align_content": null,
            "align_items": null,
            "align_self": null,
            "border": null,
            "bottom": null,
            "display": null,
            "flex": null,
            "flex_flow": null,
            "grid_area": null,
            "grid_auto_columns": null,
            "grid_auto_flow": null,
            "grid_auto_rows": null,
            "grid_column": null,
            "grid_gap": null,
            "grid_row": null,
            "grid_template_areas": null,
            "grid_template_columns": null,
            "grid_template_rows": null,
            "height": null,
            "justify_content": null,
            "justify_items": null,
            "left": null,
            "margin": null,
            "max_height": null,
            "max_width": null,
            "min_height": null,
            "min_width": null,
            "object_fit": null,
            "object_position": null,
            "order": null,
            "overflow": null,
            "overflow_x": null,
            "overflow_y": null,
            "padding": null,
            "right": null,
            "top": null,
            "visibility": null,
            "width": null
          }
        },
        "548a56c36ace4171bbe96c555a8da8e5": {
          "model_module": "@jupyter-widgets/controls",
          "model_name": "DescriptionStyleModel",
          "model_module_version": "1.5.0",
          "state": {
            "_model_module": "@jupyter-widgets/controls",
            "_model_module_version": "1.5.0",
            "_model_name": "DescriptionStyleModel",
            "_view_count": null,
            "_view_module": "@jupyter-widgets/base",
            "_view_module_version": "1.2.0",
            "_view_name": "StyleView",
            "description_width": ""
          }
        },
        "0c395cbe45704894a04bc3a115b9fe0f": {
          "model_module": "@jupyter-widgets/base",
          "model_name": "LayoutModel",
          "model_module_version": "1.2.0",
          "state": {
            "_model_module": "@jupyter-widgets/base",
            "_model_module_version": "1.2.0",
            "_model_name": "LayoutModel",
            "_view_count": null,
            "_view_module": "@jupyter-widgets/base",
            "_view_module_version": "1.2.0",
            "_view_name": "LayoutView",
            "align_content": null,
            "align_items": null,
            "align_self": null,
            "border": null,
            "bottom": null,
            "display": null,
            "flex": null,
            "flex_flow": null,
            "grid_area": null,
            "grid_auto_columns": null,
            "grid_auto_flow": null,
            "grid_auto_rows": null,
            "grid_column": null,
            "grid_gap": null,
            "grid_row": null,
            "grid_template_areas": null,
            "grid_template_columns": null,
            "grid_template_rows": null,
            "height": null,
            "justify_content": null,
            "justify_items": null,
            "left": null,
            "margin": null,
            "max_height": null,
            "max_width": null,
            "min_height": null,
            "min_width": null,
            "object_fit": null,
            "object_position": null,
            "order": null,
            "overflow": null,
            "overflow_x": null,
            "overflow_y": null,
            "padding": null,
            "right": null,
            "top": null,
            "visibility": null,
            "width": null
          }
        },
        "215968fac45649abab0878269e28d30a": {
          "model_module": "@jupyter-widgets/controls",
          "model_name": "ProgressStyleModel",
          "model_module_version": "1.5.0",
          "state": {
            "_model_module": "@jupyter-widgets/controls",
            "_model_module_version": "1.5.0",
            "_model_name": "ProgressStyleModel",
            "_view_count": null,
            "_view_module": "@jupyter-widgets/base",
            "_view_module_version": "1.2.0",
            "_view_name": "StyleView",
            "bar_color": null,
            "description_width": ""
          }
        },
        "175ef141be704fca9e03233e282bcae9": {
          "model_module": "@jupyter-widgets/base",
          "model_name": "LayoutModel",
          "model_module_version": "1.2.0",
          "state": {
            "_model_module": "@jupyter-widgets/base",
            "_model_module_version": "1.2.0",
            "_model_name": "LayoutModel",
            "_view_count": null,
            "_view_module": "@jupyter-widgets/base",
            "_view_module_version": "1.2.0",
            "_view_name": "LayoutView",
            "align_content": null,
            "align_items": null,
            "align_self": null,
            "border": null,
            "bottom": null,
            "display": null,
            "flex": null,
            "flex_flow": null,
            "grid_area": null,
            "grid_auto_columns": null,
            "grid_auto_flow": null,
            "grid_auto_rows": null,
            "grid_column": null,
            "grid_gap": null,
            "grid_row": null,
            "grid_template_areas": null,
            "grid_template_columns": null,
            "grid_template_rows": null,
            "height": null,
            "justify_content": null,
            "justify_items": null,
            "left": null,
            "margin": null,
            "max_height": null,
            "max_width": null,
            "min_height": null,
            "min_width": null,
            "object_fit": null,
            "object_position": null,
            "order": null,
            "overflow": null,
            "overflow_x": null,
            "overflow_y": null,
            "padding": null,
            "right": null,
            "top": null,
            "visibility": null,
            "width": null
          }
        },
        "194ee7bfe37240c1aef1996bb95221ce": {
          "model_module": "@jupyter-widgets/controls",
          "model_name": "DescriptionStyleModel",
          "model_module_version": "1.5.0",
          "state": {
            "_model_module": "@jupyter-widgets/controls",
            "_model_module_version": "1.5.0",
            "_model_name": "DescriptionStyleModel",
            "_view_count": null,
            "_view_module": "@jupyter-widgets/base",
            "_view_module_version": "1.2.0",
            "_view_name": "StyleView",
            "description_width": ""
          }
        },
        "6507a7d2c12c46b9aac29220a6b5ba73": {
          "model_module": "@jupyter-widgets/controls",
          "model_name": "HBoxModel",
          "model_module_version": "1.5.0",
          "state": {
            "_dom_classes": [],
            "_model_module": "@jupyter-widgets/controls",
            "_model_module_version": "1.5.0",
            "_model_name": "HBoxModel",
            "_view_count": null,
            "_view_module": "@jupyter-widgets/controls",
            "_view_module_version": "1.5.0",
            "_view_name": "HBoxView",
            "box_style": "",
            "children": [
              "IPY_MODEL_80e450d010ec4575a38066f6f35105d7",
              "IPY_MODEL_def3684ad6f94656a07ac76dec27f35b",
              "IPY_MODEL_be018fde3df648dda21325c59e113ed6"
            ],
            "layout": "IPY_MODEL_c92b567be3684e0fb4145ff9ec9a9296"
          }
        },
        "80e450d010ec4575a38066f6f35105d7": {
          "model_module": "@jupyter-widgets/controls",
          "model_name": "HTMLModel",
          "model_module_version": "1.5.0",
          "state": {
            "_dom_classes": [],
            "_model_module": "@jupyter-widgets/controls",
            "_model_module_version": "1.5.0",
            "_model_name": "HTMLModel",
            "_view_count": null,
            "_view_module": "@jupyter-widgets/controls",
            "_view_module_version": "1.5.0",
            "_view_name": "HTMLView",
            "description": "",
            "description_tooltip": null,
            "layout": "IPY_MODEL_b2bdb8bcdc394f04b6ed6a718bbf81c9",
            "placeholder": "​",
            "style": "IPY_MODEL_ab0f39a49c104a22af02929b3c38c295",
            "value": "100%"
          }
        },
        "def3684ad6f94656a07ac76dec27f35b": {
          "model_module": "@jupyter-widgets/controls",
          "model_name": "FloatProgressModel",
          "model_module_version": "1.5.0",
          "state": {
            "_dom_classes": [],
            "_model_module": "@jupyter-widgets/controls",
            "_model_module_version": "1.5.0",
            "_model_name": "FloatProgressModel",
            "_view_count": null,
            "_view_module": "@jupyter-widgets/controls",
            "_view_module_version": "1.5.0",
            "_view_name": "ProgressView",
            "bar_style": "success",
            "description": "",
            "description_tooltip": null,
            "layout": "IPY_MODEL_854859abb616471d8c20e52712b18f9c",
            "max": 20000,
            "min": 0,
            "orientation": "horizontal",
            "style": "IPY_MODEL_26e2522adefc48da91e18db942e3eb17",
            "value": 20000
          }
        },
        "be018fde3df648dda21325c59e113ed6": {
          "model_module": "@jupyter-widgets/controls",
          "model_name": "HTMLModel",
          "model_module_version": "1.5.0",
          "state": {
            "_dom_classes": [],
            "_model_module": "@jupyter-widgets/controls",
            "_model_module_version": "1.5.0",
            "_model_name": "HTMLModel",
            "_view_count": null,
            "_view_module": "@jupyter-widgets/controls",
            "_view_module_version": "1.5.0",
            "_view_name": "HTMLView",
            "description": "",
            "description_tooltip": null,
            "layout": "IPY_MODEL_32058c59d8f84722a1530946861110d4",
            "placeholder": "​",
            "style": "IPY_MODEL_22ec23f74de740d6b47faaf2f9ed0352",
            "value": " 20000/20000 [09:40&lt;00:00, 30.64it/s]"
          }
        },
        "c92b567be3684e0fb4145ff9ec9a9296": {
          "model_module": "@jupyter-widgets/base",
          "model_name": "LayoutModel",
          "model_module_version": "1.2.0",
          "state": {
            "_model_module": "@jupyter-widgets/base",
            "_model_module_version": "1.2.0",
            "_model_name": "LayoutModel",
            "_view_count": null,
            "_view_module": "@jupyter-widgets/base",
            "_view_module_version": "1.2.0",
            "_view_name": "LayoutView",
            "align_content": null,
            "align_items": null,
            "align_self": null,
            "border": null,
            "bottom": null,
            "display": null,
            "flex": null,
            "flex_flow": null,
            "grid_area": null,
            "grid_auto_columns": null,
            "grid_auto_flow": null,
            "grid_auto_rows": null,
            "grid_column": null,
            "grid_gap": null,
            "grid_row": null,
            "grid_template_areas": null,
            "grid_template_columns": null,
            "grid_template_rows": null,
            "height": null,
            "justify_content": null,
            "justify_items": null,
            "left": null,
            "margin": null,
            "max_height": null,
            "max_width": null,
            "min_height": null,
            "min_width": null,
            "object_fit": null,
            "object_position": null,
            "order": null,
            "overflow": null,
            "overflow_x": null,
            "overflow_y": null,
            "padding": null,
            "right": null,
            "top": null,
            "visibility": null,
            "width": null
          }
        },
        "b2bdb8bcdc394f04b6ed6a718bbf81c9": {
          "model_module": "@jupyter-widgets/base",
          "model_name": "LayoutModel",
          "model_module_version": "1.2.0",
          "state": {
            "_model_module": "@jupyter-widgets/base",
            "_model_module_version": "1.2.0",
            "_model_name": "LayoutModel",
            "_view_count": null,
            "_view_module": "@jupyter-widgets/base",
            "_view_module_version": "1.2.0",
            "_view_name": "LayoutView",
            "align_content": null,
            "align_items": null,
            "align_self": null,
            "border": null,
            "bottom": null,
            "display": null,
            "flex": null,
            "flex_flow": null,
            "grid_area": null,
            "grid_auto_columns": null,
            "grid_auto_flow": null,
            "grid_auto_rows": null,
            "grid_column": null,
            "grid_gap": null,
            "grid_row": null,
            "grid_template_areas": null,
            "grid_template_columns": null,
            "grid_template_rows": null,
            "height": null,
            "justify_content": null,
            "justify_items": null,
            "left": null,
            "margin": null,
            "max_height": null,
            "max_width": null,
            "min_height": null,
            "min_width": null,
            "object_fit": null,
            "object_position": null,
            "order": null,
            "overflow": null,
            "overflow_x": null,
            "overflow_y": null,
            "padding": null,
            "right": null,
            "top": null,
            "visibility": null,
            "width": null
          }
        },
        "ab0f39a49c104a22af02929b3c38c295": {
          "model_module": "@jupyter-widgets/controls",
          "model_name": "DescriptionStyleModel",
          "model_module_version": "1.5.0",
          "state": {
            "_model_module": "@jupyter-widgets/controls",
            "_model_module_version": "1.5.0",
            "_model_name": "DescriptionStyleModel",
            "_view_count": null,
            "_view_module": "@jupyter-widgets/base",
            "_view_module_version": "1.2.0",
            "_view_name": "StyleView",
            "description_width": ""
          }
        },
        "854859abb616471d8c20e52712b18f9c": {
          "model_module": "@jupyter-widgets/base",
          "model_name": "LayoutModel",
          "model_module_version": "1.2.0",
          "state": {
            "_model_module": "@jupyter-widgets/base",
            "_model_module_version": "1.2.0",
            "_model_name": "LayoutModel",
            "_view_count": null,
            "_view_module": "@jupyter-widgets/base",
            "_view_module_version": "1.2.0",
            "_view_name": "LayoutView",
            "align_content": null,
            "align_items": null,
            "align_self": null,
            "border": null,
            "bottom": null,
            "display": null,
            "flex": null,
            "flex_flow": null,
            "grid_area": null,
            "grid_auto_columns": null,
            "grid_auto_flow": null,
            "grid_auto_rows": null,
            "grid_column": null,
            "grid_gap": null,
            "grid_row": null,
            "grid_template_areas": null,
            "grid_template_columns": null,
            "grid_template_rows": null,
            "height": null,
            "justify_content": null,
            "justify_items": null,
            "left": null,
            "margin": null,
            "max_height": null,
            "max_width": null,
            "min_height": null,
            "min_width": null,
            "object_fit": null,
            "object_position": null,
            "order": null,
            "overflow": null,
            "overflow_x": null,
            "overflow_y": null,
            "padding": null,
            "right": null,
            "top": null,
            "visibility": null,
            "width": null
          }
        },
        "26e2522adefc48da91e18db942e3eb17": {
          "model_module": "@jupyter-widgets/controls",
          "model_name": "ProgressStyleModel",
          "model_module_version": "1.5.0",
          "state": {
            "_model_module": "@jupyter-widgets/controls",
            "_model_module_version": "1.5.0",
            "_model_name": "ProgressStyleModel",
            "_view_count": null,
            "_view_module": "@jupyter-widgets/base",
            "_view_module_version": "1.2.0",
            "_view_name": "StyleView",
            "bar_color": null,
            "description_width": ""
          }
        },
        "32058c59d8f84722a1530946861110d4": {
          "model_module": "@jupyter-widgets/base",
          "model_name": "LayoutModel",
          "model_module_version": "1.2.0",
          "state": {
            "_model_module": "@jupyter-widgets/base",
            "_model_module_version": "1.2.0",
            "_model_name": "LayoutModel",
            "_view_count": null,
            "_view_module": "@jupyter-widgets/base",
            "_view_module_version": "1.2.0",
            "_view_name": "LayoutView",
            "align_content": null,
            "align_items": null,
            "align_self": null,
            "border": null,
            "bottom": null,
            "display": null,
            "flex": null,
            "flex_flow": null,
            "grid_area": null,
            "grid_auto_columns": null,
            "grid_auto_flow": null,
            "grid_auto_rows": null,
            "grid_column": null,
            "grid_gap": null,
            "grid_row": null,
            "grid_template_areas": null,
            "grid_template_columns": null,
            "grid_template_rows": null,
            "height": null,
            "justify_content": null,
            "justify_items": null,
            "left": null,
            "margin": null,
            "max_height": null,
            "max_width": null,
            "min_height": null,
            "min_width": null,
            "object_fit": null,
            "object_position": null,
            "order": null,
            "overflow": null,
            "overflow_x": null,
            "overflow_y": null,
            "padding": null,
            "right": null,
            "top": null,
            "visibility": null,
            "width": null
          }
        },
        "22ec23f74de740d6b47faaf2f9ed0352": {
          "model_module": "@jupyter-widgets/controls",
          "model_name": "DescriptionStyleModel",
          "model_module_version": "1.5.0",
          "state": {
            "_model_module": "@jupyter-widgets/controls",
            "_model_module_version": "1.5.0",
            "_model_name": "DescriptionStyleModel",
            "_view_count": null,
            "_view_module": "@jupyter-widgets/base",
            "_view_module_version": "1.2.0",
            "_view_name": "StyleView",
            "description_width": ""
          }
        }
      }
    }
  },
  "nbformat": 4,
  "nbformat_minor": 0
}